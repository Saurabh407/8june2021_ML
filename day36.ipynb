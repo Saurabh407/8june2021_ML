{
 "cells": [
  {
   "cell_type": "code",
   "execution_count": 1,
   "id": "805ea24e-b34e-4c00-a1d3-63c4f975df97",
   "metadata": {},
   "outputs": [],
   "source": [
    "import pandas as pd\n",
    "import matplotlib.pyplot as plt\n",
    "import seaborn as sns\n",
    "import sklearn.datasets as skd"
   ]
  },
  {
   "cell_type": "code",
   "execution_count": 2,
   "id": "572fb7dc-d540-47c5-a71f-72dd93016c9a",
   "metadata": {},
   "outputs": [],
   "source": [
    "cancer = skd.load_breast_cancer()"
   ]
  },
  {
   "cell_type": "code",
   "execution_count": 3,
   "id": "d751802e-29c6-4443-bba9-b38e3d8e540a",
   "metadata": {},
   "outputs": [
    {
     "data": {
      "text/plain": [
       "dict_keys(['data', 'target', 'frame', 'target_names', 'DESCR', 'feature_names', 'filename'])"
      ]
     },
     "execution_count": 3,
     "metadata": {},
     "output_type": "execute_result"
    }
   ],
   "source": [
    "cancer.keys()"
   ]
  },
  {
   "cell_type": "code",
   "execution_count": 4,
   "id": "34dba8aa-a159-4c71-9e35-0529cfb20c16",
   "metadata": {},
   "outputs": [
    {
     "name": "stdout",
     "output_type": "stream",
     "text": [
      ".. _breast_cancer_dataset:\n",
      "\n",
      "Breast cancer wisconsin (diagnostic) dataset\n",
      "--------------------------------------------\n",
      "\n",
      "**Data Set Characteristics:**\n",
      "\n",
      "    :Number of Instances: 569\n",
      "\n",
      "    :Number of Attributes: 30 numeric, predictive attributes and the class\n",
      "\n",
      "    :Attribute Information:\n",
      "        - radius (mean of distances from center to points on the perimeter)\n",
      "        - texture (standard deviation of gray-scale values)\n",
      "        - perimeter\n",
      "        - area\n",
      "        - smoothness (local variation in radius lengths)\n",
      "        - compactness (perimeter^2 / area - 1.0)\n",
      "        - concavity (severity of concave portions of the contour)\n",
      "        - concave points (number of concave portions of the contour)\n",
      "        - symmetry\n",
      "        - fractal dimension (\"coastline approximation\" - 1)\n",
      "\n",
      "        The mean, standard error, and \"worst\" or largest (mean of the three\n",
      "        worst/largest values) of these features were computed for each image,\n",
      "        resulting in 30 features.  For instance, field 0 is Mean Radius, field\n",
      "        10 is Radius SE, field 20 is Worst Radius.\n",
      "\n",
      "        - class:\n",
      "                - WDBC-Malignant\n",
      "                - WDBC-Benign\n",
      "\n",
      "    :Summary Statistics:\n",
      "\n",
      "    ===================================== ====== ======\n",
      "                                           Min    Max\n",
      "    ===================================== ====== ======\n",
      "    radius (mean):                        6.981  28.11\n",
      "    texture (mean):                       9.71   39.28\n",
      "    perimeter (mean):                     43.79  188.5\n",
      "    area (mean):                          143.5  2501.0\n",
      "    smoothness (mean):                    0.053  0.163\n",
      "    compactness (mean):                   0.019  0.345\n",
      "    concavity (mean):                     0.0    0.427\n",
      "    concave points (mean):                0.0    0.201\n",
      "    symmetry (mean):                      0.106  0.304\n",
      "    fractal dimension (mean):             0.05   0.097\n",
      "    radius (standard error):              0.112  2.873\n",
      "    texture (standard error):             0.36   4.885\n",
      "    perimeter (standard error):           0.757  21.98\n",
      "    area (standard error):                6.802  542.2\n",
      "    smoothness (standard error):          0.002  0.031\n",
      "    compactness (standard error):         0.002  0.135\n",
      "    concavity (standard error):           0.0    0.396\n",
      "    concave points (standard error):      0.0    0.053\n",
      "    symmetry (standard error):            0.008  0.079\n",
      "    fractal dimension (standard error):   0.001  0.03\n",
      "    radius (worst):                       7.93   36.04\n",
      "    texture (worst):                      12.02  49.54\n",
      "    perimeter (worst):                    50.41  251.2\n",
      "    area (worst):                         185.2  4254.0\n",
      "    smoothness (worst):                   0.071  0.223\n",
      "    compactness (worst):                  0.027  1.058\n",
      "    concavity (worst):                    0.0    1.252\n",
      "    concave points (worst):               0.0    0.291\n",
      "    symmetry (worst):                     0.156  0.664\n",
      "    fractal dimension (worst):            0.055  0.208\n",
      "    ===================================== ====== ======\n",
      "\n",
      "    :Missing Attribute Values: None\n",
      "\n",
      "    :Class Distribution: 212 - Malignant, 357 - Benign\n",
      "\n",
      "    :Creator:  Dr. William H. Wolberg, W. Nick Street, Olvi L. Mangasarian\n",
      "\n",
      "    :Donor: Nick Street\n",
      "\n",
      "    :Date: November, 1995\n",
      "\n",
      "This is a copy of UCI ML Breast Cancer Wisconsin (Diagnostic) datasets.\n",
      "https://goo.gl/U2Uwz2\n",
      "\n",
      "Features are computed from a digitized image of a fine needle\n",
      "aspirate (FNA) of a breast mass.  They describe\n",
      "characteristics of the cell nuclei present in the image.\n",
      "\n",
      "Separating plane described above was obtained using\n",
      "Multisurface Method-Tree (MSM-T) [K. P. Bennett, \"Decision Tree\n",
      "Construction Via Linear Programming.\" Proceedings of the 4th\n",
      "Midwest Artificial Intelligence and Cognitive Science Society,\n",
      "pp. 97-101, 1992], a classification method which uses linear\n",
      "programming to construct a decision tree.  Relevant features\n",
      "were selected using an exhaustive search in the space of 1-4\n",
      "features and 1-3 separating planes.\n",
      "\n",
      "The actual linear program used to obtain the separating plane\n",
      "in the 3-dimensional space is that described in:\n",
      "[K. P. Bennett and O. L. Mangasarian: \"Robust Linear\n",
      "Programming Discrimination of Two Linearly Inseparable Sets\",\n",
      "Optimization Methods and Software 1, 1992, 23-34].\n",
      "\n",
      "This database is also available through the UW CS ftp server:\n",
      "\n",
      "ftp ftp.cs.wisc.edu\n",
      "cd math-prog/cpo-dataset/machine-learn/WDBC/\n",
      "\n",
      ".. topic:: References\n",
      "\n",
      "   - W.N. Street, W.H. Wolberg and O.L. Mangasarian. Nuclear feature extraction \n",
      "     for breast tumor diagnosis. IS&T/SPIE 1993 International Symposium on \n",
      "     Electronic Imaging: Science and Technology, volume 1905, pages 861-870,\n",
      "     San Jose, CA, 1993.\n",
      "   - O.L. Mangasarian, W.N. Street and W.H. Wolberg. Breast cancer diagnosis and \n",
      "     prognosis via linear programming. Operations Research, 43(4), pages 570-577, \n",
      "     July-August 1995.\n",
      "   - W.H. Wolberg, W.N. Street, and O.L. Mangasarian. Machine learning techniques\n",
      "     to diagnose breast cancer from fine-needle aspirates. Cancer Letters 77 (1994) \n",
      "     163-171.\n"
     ]
    }
   ],
   "source": [
    "print(cancer['DESCR'])"
   ]
  },
  {
   "cell_type": "code",
   "execution_count": 5,
   "id": "f73ede23-3dba-4b58-ade3-3fa4a9c8b663",
   "metadata": {},
   "outputs": [],
   "source": [
    "\n",
    "dummy,labels = skd.make_blobs(n_samples=600, n_features=2, centers=5, cluster_std=1, random_state=50)"
   ]
  },
  {
   "cell_type": "code",
   "execution_count": 6,
   "id": "06effa5d-7233-4a93-ad31-54c4e27c7729",
   "metadata": {},
   "outputs": [
    {
     "data": {
      "text/plain": [
       "array([[-4.21671519,  8.16526214],\n",
       "       [ 1.36303458, -6.02095738],\n",
       "       [-5.33732074, -2.29827094],\n",
       "       ...,\n",
       "       [ 0.36337424, -6.89499007],\n",
       "       [-1.50477369,  6.26643699],\n",
       "       [-2.19692726, 10.9353317 ]])"
      ]
     },
     "execution_count": 6,
     "metadata": {},
     "output_type": "execute_result"
    }
   ],
   "source": [
    "dummy"
   ]
  },
  {
   "cell_type": "code",
   "execution_count": 7,
   "id": "c7e5681b-81b4-4259-b5f8-4f8ebb24113a",
   "metadata": {},
   "outputs": [
    {
     "data": {
      "text/plain": [
       "(600,)"
      ]
     },
     "execution_count": 7,
     "metadata": {},
     "output_type": "execute_result"
    }
   ],
   "source": [
    "labels.shape"
   ]
  },
  {
   "cell_type": "code",
   "execution_count": 8,
   "id": "27c99eca-8c9d-41f7-b3d0-a39082041ae0",
   "metadata": {},
   "outputs": [
    {
     "data": {
      "text/plain": [
       "{0, 1, 2, 3, 4}"
      ]
     },
     "execution_count": 8,
     "metadata": {},
     "output_type": "execute_result"
    }
   ],
   "source": [
    "set(labels)"
   ]
  },
  {
   "cell_type": "code",
   "execution_count": 9,
   "id": "916c4b2c-0ec9-4b29-bdc6-acd7dae32ad7",
   "metadata": {},
   "outputs": [
    {
     "data": {
      "text/plain": [
       "(600, 2)"
      ]
     },
     "execution_count": 9,
     "metadata": {},
     "output_type": "execute_result"
    }
   ],
   "source": [
    "dummy.shape"
   ]
  },
  {
   "cell_type": "code",
   "execution_count": 10,
   "id": "682dd7b1-f694-4649-85d9-1b02cdf404d5",
   "metadata": {},
   "outputs": [
    {
     "data": {
      "text/plain": [
       "array([-4.21671519,  1.36303458, -5.33732074, -3.54731759, -3.45475895,\n",
       "        4.94442293, -1.69243554, -0.19467315, -5.33922597, -2.1964158 ,\n",
       "        0.33099065, -4.46600974, -0.33372507, -2.45521869,  0.73005083,\n",
       "       -0.47431003, -0.36611601, -0.59220876,  5.86134449,  0.70769841,\n",
       "       -1.81146182, -6.30676682, -0.26439094, -1.47694876, -5.27601884,\n",
       "       -4.4714499 , -0.76175739, -0.59582364,  3.97579728, -0.56723322,\n",
       "       -0.02085239, -2.70099596, -1.24629021, -7.63356005,  3.90186787,\n",
       "       -3.20517886, -1.6088007 , -2.66370158,  7.01445719,  7.30534092,\n",
       "       -6.3308598 , -0.43096223,  5.01197803, -2.06905691,  7.29434112,\n",
       "       -0.47089819,  5.95110306, -3.81909252,  5.94813838,  1.52703774,\n",
       "        6.06673977, -2.53628848, -1.46979454,  5.39706827, -0.23857426,\n",
       "       -2.10817674, -0.26640742, -3.07804264, -1.95368453, -1.81781252,\n",
       "        5.8446652 ,  0.03156439, -2.94116907, -4.58719091, -4.04446252,\n",
       "        5.18755982, -2.34280138, -2.61544153, -2.30263979, -0.59987316,\n",
       "       -1.17420922,  6.53119371, -2.79997634, -2.37324717, -3.44652839,\n",
       "       -3.66583083, -5.1354882 , -4.02386826, -3.35840844,  1.12291841,\n",
       "       -2.90893954, -2.25954309, -2.57703497,  4.86203812, -3.29740235,\n",
       "       -1.90081738,  0.64555459,  1.27476055, -2.06272081, -0.86821252,\n",
       "       -2.14943396, -3.87776357, -5.63505127, -1.03839293,  0.32049877,\n",
       "       -2.55289467,  0.13560996, -0.88618133, -5.72100587,  5.02079987,\n",
       "       -3.79245085, -2.44162989, -5.51987135, -5.91648494,  4.76413183,\n",
       "       -0.16051787,  0.60669132, -5.24393121, -3.00862435,  0.45705472,\n",
       "        4.93506104, -2.88378536,  5.99944706, -3.18045758, -3.12545975,\n",
       "        5.2259546 , -4.64851408,  2.50415809, -2.91484615, -6.10260908,\n",
       "       -3.28748828, -2.92271934, -3.44052124, -5.5778723 , -4.48924391,\n",
       "        5.42449442, -5.99632055, -4.09014655, -2.64911572, -3.39335598,\n",
       "        5.37722329, -0.4340935 ,  6.98993666, -5.43082684,  7.43109364,\n",
       "       -5.49866046,  2.6041773 , -2.34764703, -2.87442152, -2.45564143,\n",
       "        7.18715437, -4.07038382,  0.60156548,  3.96456513, -1.13898829,\n",
       "        6.23632742,  5.9008553 ,  4.45890803, -0.63384936, -3.99349277,\n",
       "       -0.84731203, -1.76220124,  6.07476979,  6.26420797, -0.24393933,\n",
       "       -5.69808739, -0.41221946,  0.599959  , -2.04719088, -5.59471028,\n",
       "       -1.47143603, -3.92968226, -1.46311648, -0.30701678,  6.29297784,\n",
       "       -1.10549315, -5.38939199,  4.7156547 , -4.5334746 , -3.9559423 ,\n",
       "       -5.11705432,  5.3906543 , -5.29157405, -0.3083834 , -0.67440242,\n",
       "        4.06126517, -2.02486874, -1.00363759, -2.12961798, -1.77431926,\n",
       "       -1.20806199, -3.73586712, -4.98940885,  5.16378893, -0.91014068,\n",
       "       -0.9987138 ,  6.18599962,  6.19387587,  4.10518745,  1.46990332,\n",
       "       -1.79845436,  5.84742768, -1.64539303, -1.81086521,  1.41369516,\n",
       "       -2.6665611 , -4.59931053, -5.04751379, -5.14519363, -0.98488564,\n",
       "       -2.04935145, -1.29202674,  5.35935889, -1.98535864,  1.9578524 ,\n",
       "       -0.10637535, -2.43641593, -0.08445234,  3.47964135,  3.96499393,\n",
       "        5.54910281,  0.98724242, -2.11724522, -3.14992986,  5.29128805,\n",
       "        0.63860183, -4.92639935, -0.0689592 , -1.80543854, -3.85911624,\n",
       "        0.02954765, -5.8030156 , -2.0869772 , -0.91441746, -2.15990487,\n",
       "       -2.8906448 , -0.24461641, -5.08725777, -2.72127886, -2.24614621,\n",
       "       -6.17516108, -5.56053641, -0.27654164, -3.06691125,  4.79283859,\n",
       "       -5.16647328, -0.79688979,  4.93107593, -2.31116673, -1.39025969,\n",
       "        5.01308883,  0.45634505, -5.25217192, -0.02586987, -5.47848754,\n",
       "       -1.2371116 , -0.95261103, -1.18599048,  0.75845778, -0.27275314,\n",
       "       -1.2211564 , -3.02804207,  4.75816497,  4.68304578, -2.0330395 ,\n",
       "       -1.33404191,  6.35432627,  1.70007777, -2.89348232, -2.53260323,\n",
       "        3.76797814, -1.81814077,  5.54737505, -1.54013377, -5.05201701,\n",
       "       -5.69236071, -0.01198916, -0.25173366, -3.44623067, -5.13182105,\n",
       "       -4.21066964, -2.92393524, -3.27383773, -3.08284446, -0.94166129,\n",
       "       -1.10458162, -0.25773373, -1.78181896, -1.14649095, -0.80270288,\n",
       "       -1.99100235, -4.74129256,  0.169249  , -0.16665821,  5.01047936,\n",
       "       -4.89625835,  2.97773002,  1.05489568,  4.5569489 , -0.50638761,\n",
       "       -5.18655068, -4.55413841, -2.10496279, -2.37045318, -3.74014181,\n",
       "       -5.46706931,  6.00173559, -2.75188656, -2.98329208,  0.98154173,\n",
       "       -1.74817579, -1.51172641, -2.00343676, -1.37171967, -0.47140049,\n",
       "        5.38819163, -1.52673495, -2.19936597, -2.47515085, -7.42056591,\n",
       "       -2.45498114, -0.53503224,  5.23427712, -1.58346683, -0.95757684,\n",
       "        0.61760638, -4.7751358 , -5.4757616 , -4.5692498 , -2.21527285,\n",
       "       -5.16033444, -2.09328185,  5.65123908,  1.35140849, -3.26309198,\n",
       "       -0.52020154, -2.84763213, -2.21947044, -1.85272585, -6.50962363,\n",
       "       -0.73238425, -6.05034427, -0.97248996,  0.52728583, -3.99746797,\n",
       "        6.36011935, -3.31999182, -1.7045166 , -1.35935786, -4.0476961 ,\n",
       "        0.22347187, -1.9582188 , -2.30380148,  4.66235723, -2.21220437,\n",
       "       -1.23797598, -0.90118371, -1.67040151, -1.95316695, -1.20845684,\n",
       "        1.41182272,  5.38083517, -2.63868774,  5.12041401, -4.49120173,\n",
       "       -5.30243153, -0.99773539, -2.91365759, -3.1929545 , -3.01418901,\n",
       "       -3.1163709 ,  6.24524817,  6.25690716,  5.5901477 , -3.70053104,\n",
       "       -2.03126661, -1.41921939,  0.67715834, -2.36046776, -6.84273596,\n",
       "        0.01837055, -4.59489017,  0.36173869, -5.40371016, -4.27520478,\n",
       "       -5.13881042,  0.67599234, -6.48817595, -0.66454562,  6.119161  ,\n",
       "       -3.01929735, -5.14140364, -0.98394114,  5.04030992,  0.41851171,\n",
       "       -1.43597256,  0.58876987, -5.77431118, -2.69570037, -4.49693262,\n",
       "       -0.85856079,  3.92620554,  5.63086062, -1.07353789,  3.95875047,\n",
       "       -2.32631209, -2.77815843, -1.16050595, -5.41808421, -3.01958741,\n",
       "       -2.16435486, -0.78751514,  0.13360774, -2.88748039,  6.58767453,\n",
       "       -1.74741327,  4.43615802,  4.24253001, -1.0636099 ,  0.97718606,\n",
       "       -1.53387046, -3.54796511,  5.50997043, -2.48558879, -2.53306873,\n",
       "       -4.8336541 ,  5.36172756,  6.18742483,  4.4564218 , -3.14810297,\n",
       "       -0.35374376, -2.86963369, -0.0598315 , -3.59565289,  0.65321122,\n",
       "       -0.63850439,  4.84538712,  0.01601402, -1.39911226, -4.24414399,\n",
       "       -6.31062505, -1.28179931, -3.06805908, -2.25206536, -6.24272564,\n",
       "       -0.30131021, -5.97397148,  5.58647006, -5.04138576, -2.08603451,\n",
       "        3.8455421 , -0.54123179,  3.80259121, -3.08222823, -4.63186392,\n",
       "       -2.39876682, -5.27415986, -0.69056053, -0.67524558, -3.58958201,\n",
       "       -3.00573633,  2.5972879 , -4.12726413, -1.16306204, -3.94631748,\n",
       "       -3.9390467 , -1.61284985, -1.85889823, -1.60442957,  4.73348173,\n",
       "       -1.93968172,  6.38037607, -0.46682552, -5.77623951, -4.40474868,\n",
       "       -2.39831178, -5.1524956 , -2.85586774,  0.76244826, -1.62084346,\n",
       "        5.01654503, -0.38922908, -1.35844872, -4.07395346, -2.06057265,\n",
       "        2.47152107, -0.96307329,  4.48427584, -3.64131831, -5.67142392,\n",
       "       -2.20104231, -3.73642096, -3.26011612,  6.81826411, -2.21818392,\n",
       "        5.76979505, -1.53787783, -1.45543243, -4.5067314 , -6.89801669,\n",
       "       -1.45337113, -2.90704616, -0.13907806, -4.40827774, -4.66697571,\n",
       "       -5.97386244, -3.74262484,  3.86039787,  3.97745293, -6.69605958,\n",
       "       -4.95936112, -0.50192294,  3.79789855, -1.62255055, -2.71144551,\n",
       "        0.01589917, -3.37654891,  6.12164418, -2.25211301,  0.2673181 ,\n",
       "       -0.27252245,  5.53247196,  5.80234794,  5.26893272, -0.19330604,\n",
       "       -0.74858917,  0.04571221,  3.97310215, -2.03554755, -2.52056509,\n",
       "       -1.97993905, -3.93459208,  5.62658796, -1.53212744, -0.82075166,\n",
       "       -3.32405816,  5.03046188, -4.67528493, -0.9989217 ,  0.74939487,\n",
       "       -2.07646327, -2.02744046, -6.06026373,  5.31977326, -2.66260154,\n",
       "        5.32927968, -4.49920674, -4.78582879, -3.22398452,  5.10327205,\n",
       "        0.11427663,  5.12671797, -1.49226863,  0.6205558 , -2.32245808,\n",
       "        6.67491573, -2.96501071,  6.70209575, -6.32002272,  0.53537936,\n",
       "        5.57780348, -4.74051759, -4.19971994, -0.06583481, -5.76879509,\n",
       "        5.95142582, -4.08255703, -2.56404394, -2.43088694, -0.42267757,\n",
       "        0.57624828, -0.09807266, -1.93498757,  5.98922419, -1.91788889,\n",
       "       -2.92404482,  7.35137584, -5.29608795,  0.09220439,  5.24597755,\n",
       "        5.13047224, -2.92888733,  4.25940323, -1.20800674,  6.55902293,\n",
       "       -2.56985065, -2.2080881 , -5.24681744, -1.03133465,  3.20610826,\n",
       "       -3.75694082, -5.1150667 ,  5.66433447, -2.73625204,  5.61832349,\n",
       "       -5.20189281, -2.43707748,  4.46003294, -2.93580474, -3.96058981,\n",
       "        7.01988964,  0.69722195,  6.48914725, -1.39906807, -2.45639063,\n",
       "       -1.65435008, -0.7411975 ,  0.36337424, -1.50477369, -2.19692726])"
      ]
     },
     "execution_count": 10,
     "metadata": {},
     "output_type": "execute_result"
    }
   ],
   "source": [
    "dummy[:,0]"
   ]
  },
  {
   "cell_type": "code",
   "execution_count": 11,
   "id": "bbae50ce-e761-4f30-96a2-532275a24336",
   "metadata": {},
   "outputs": [
    {
     "data": {
      "text/plain": [
       "<matplotlib.collections.PathCollection at 0x9f39dbc5e0>"
      ]
     },
     "execution_count": 11,
     "metadata": {},
     "output_type": "execute_result"
    },
    {
     "data": {
      "image/png": "[encoded data removed]",
      "text/plain": [
       "<Figure size 432x288 with 1 Axes>"
      ]
     },
     "metadata": {
      "needs_background": "light"
     },
     "output_type": "display_data"
    }
   ],
   "source": [
    "plt.scatter(dummy[:,0], dummy[:,1])"
   ]
  },
  {
   "cell_type": "code",
   "execution_count": 12,
   "id": "d3e54205-e070-4db9-8a01-148d498018f3",
   "metadata": {},
   "outputs": [
    {
     "data": {
      "text/plain": [
       "<matplotlib.collections.PathCollection at 0x9f39eaa400>"
      ]
     },
     "execution_count": 12,
     "metadata": {},
     "output_type": "execute_result"
    },
    {
     "data": {
      "image/png": "[encoded data removed]",
      "text/plain": [
       "<Figure size 432x288 with 1 Axes>"
      ]
     },
     "metadata": {
      "needs_background": "light"
     },
     "output_type": "display_data"
    }
   ],
   "source": [
    "plt.scatter(dummy[:,0], dummy[:,1],c=labels)"
   ]
  },
  {
   "cell_type": "code",
   "execution_count": 13,
   "id": "1180bb97-c176-4b48-9d10-aacf6e96b688",
   "metadata": {},
   "outputs": [],
   "source": [
    "from sklearn.cluster import KMeans"
   ]
  },
  {
   "cell_type": "code",
   "execution_count": 14,
   "id": "9707b064-3c93-453e-bc3b-ae16f76c00b0",
   "metadata": {},
   "outputs": [],
   "source": [
    "model_km = KMeans().fit(dummy)"
   ]
  },
  {
   "cell_type": "code",
   "execution_count": 15,
   "id": "9aa228ed-edef-43c5-80a8-3e70058feab6",
   "metadata": {},
   "outputs": [
    {
     "data": {
      "text/plain": [
       "-919.6555993458305"
      ]
     },
     "execution_count": 15,
     "metadata": {},
     "output_type": "execute_result"
    }
   ],
   "source": [
    "model_km.score(dummy)"
   ]
  },
  {
   "cell_type": "code",
   "execution_count": 16,
   "id": "09c422f7-7654-44fa-9a44-d50b4d5df3e6",
   "metadata": {},
   "outputs": [
    {
     "data": {
      "text/plain": [
       "array([[-4.99649407, -2.18052772],\n",
       "       [-1.83656136,  6.563235  ],\n",
       "       [ 4.54194366, -4.94686262],\n",
       "       [-0.18502388, -5.53145824],\n",
       "       [ 5.67769903, -3.30627555],\n",
       "       [-1.67422406,  9.93314736],\n",
       "       [-1.98727927,  4.8295587 ],\n",
       "       [-3.35951873,  9.76623478]])"
      ]
     },
     "execution_count": 16,
     "metadata": {},
     "output_type": "execute_result"
    }
   ],
   "source": [
    "model_km.cluster_centers_\n"
   ]
  },
  {
   "cell_type": "code",
   "execution_count": 17,
   "id": "f17c66dc-cf6e-458b-942b-1b824a223b81",
   "metadata": {},
   "outputs": [
    {
     "data": {
      "text/plain": [
       "array([7, 3, 0, 1, 0, 4, 5, 5, 0, 1, 3, 0, 3, 6, 3, 6, 3, 3, 4, 3, 1, 0,\n",
       "       5, 3, 0, 7, 5, 1, 2, 1, 3, 7, 3, 0, 4, 7, 1, 1, 4, 4, 0, 1, 4, 6,\n",
       "       4, 3, 4, 0, 4, 3, 4, 6, 5, 4, 6, 6, 3, 6, 5, 3, 4, 3, 7, 0, 0, 2,\n",
       "       5, 6, 6, 1, 5, 4, 6, 5, 0, 1, 0, 0, 6, 3, 3, 5, 7, 2, 1, 1, 3, 3,\n",
       "       1, 3, 5, 0, 0, 3, 3, 6, 1, 3, 0, 4, 0, 6, 0, 7, 4, 3, 3, 0, 7, 3,\n",
       "       2, 7, 2, 7, 6, 2, 0, 2, 1, 0, 0, 7, 7, 0, 0, 4, 0, 7, 6, 7, 2, 3,\n",
       "       4, 0, 4, 0, 2, 5, 7, 5, 4, 0, 3, 2, 5, 4, 4, 2, 3, 0, 3, 1, 4, 4,\n",
       "       6, 0, 6, 3, 1, 0, 1, 7, 5, 3, 4, 3, 0, 2, 0, 0, 0, 4, 0, 3, 6, 4,\n",
       "       5, 5, 3, 3, 5, 0, 0, 2, 1, 6, 4, 4, 2, 3, 5, 4, 6, 5, 3, 7, 0, 0,\n",
       "       0, 6, 6, 5, 4, 3, 3, 3, 5, 5, 4, 4, 4, 3, 1, 1, 2, 3, 0, 3, 1, 0,\n",
       "       3, 0, 6, 1, 5, 6, 3, 0, 1, 6, 0, 0, 3, 0, 4, 0, 5, 2, 1, 3, 2, 3,\n",
       "       0, 3, 0, 1, 3, 1, 3, 3, 5, 0, 2, 4, 5, 5, 4, 3, 6, 7, 2, 6, 2, 3,\n",
       "       0, 0, 3, 3, 6, 0, 7, 7, 7, 1, 3, 6, 3, 5, 1, 5, 6, 0, 6, 3, 2, 7,\n",
       "       2, 3, 2, 3, 0, 0, 5, 5, 7, 0, 4, 7, 7, 3, 6, 1, 6, 3, 3, 4, 5, 1,\n",
       "       1, 0, 5, 3, 4, 5, 5, 3, 0, 0, 0, 5, 0, 6, 4, 3, 1, 3, 1, 5, 6, 0,\n",
       "       3, 0, 1, 3, 0, 4, 6, 3, 1, 0, 3, 1, 5, 2, 5, 1, 3, 5, 5, 3, 3, 2,\n",
       "       1, 2, 0, 0, 3, 6, 7, 7, 0, 4, 4, 4, 7, 5, 6, 1, 6, 0, 3, 0, 6, 0,\n",
       "       0, 0, 3, 0, 3, 4, 6, 0, 3, 2, 5, 5, 3, 0, 7, 7, 6, 4, 4, 3, 2, 5,\n",
       "       6, 5, 0, 6, 1, 5, 3, 6, 4, 5, 4, 2, 6, 1, 5, 6, 4, 7, 1, 0, 4, 2,\n",
       "       4, 7, 3, 6, 3, 7, 3, 3, 2, 1, 3, 0, 0, 3, 7, 5, 0, 3, 0, 4, 0, 6,\n",
       "       2, 6, 4, 6, 0, 5, 0, 5, 3, 7, 7, 2, 0, 6, 0, 0, 6, 1, 1, 4, 6, 4,\n",
       "       3, 0, 0, 5, 0, 1, 3, 6, 2, 3, 5, 7, 5, 2, 1, 4, 7, 0, 1, 6, 0, 4,\n",
       "       5, 4, 5, 5, 0, 0, 5, 7, 3, 0, 0, 0, 0, 2, 2, 0, 0, 3, 2, 1, 7, 3,\n",
       "       7, 4, 5, 3, 3, 4, 4, 4, 3, 3, 5, 4, 5, 1, 5, 0, 2, 3, 3, 7, 2, 0,\n",
       "       3, 3, 5, 6, 0, 4, 1, 4, 0, 0, 1, 4, 3, 4, 6, 3, 5, 4, 7, 4, 0, 6,\n",
       "       2, 0, 0, 1, 0, 4, 0, 0, 6, 3, 3, 3, 1, 4, 1, 7, 4, 0, 3, 4, 2, 7,\n",
       "       2, 3, 4, 1, 1, 0, 3, 2, 6, 0, 4, 1, 2, 0, 5, 4, 1, 7, 4, 3, 4, 1,\n",
       "       5, 5, 6, 3, 1, 5])"
      ]
     },
     "execution_count": 17,
     "metadata": {},
     "output_type": "execute_result"
    }
   ],
   "source": [
    "\n",
    "model_km.labels_"
   ]
  },
  {
   "cell_type": "code",
   "execution_count": 18,
   "id": "8b3fafe7-bcb3-407f-b322-51463920a23d",
   "metadata": {},
   "outputs": [
    {
     "data": {
      "text/plain": [
       "<matplotlib.collections.PathCollection at 0x9f33a88a60>"
      ]
     },
     "execution_count": 18,
     "metadata": {},
     "output_type": "execute_result"
    },
    {
     "data": {
      "image/png": "[encoded data removed]",
      "text/plain": [
       "<Figure size 432x288 with 1 Axes>"
      ]
     },
     "metadata": {
      "needs_background": "light"
     },
     "output_type": "display_data"
    }
   ],
   "source": [
    "plt.scatter(dummy[:,0], dummy[:,1],c=model_km.labels_)"
   ]
  },
  {
   "cell_type": "code",
   "execution_count": 19,
   "id": "09a3b434-3627-46f5-9091-b47b6b94f284",
   "metadata": {},
   "outputs": [],
   "source": [
    "model_km5 = KMeans(n_clusters=5).fit(dummy)"
   ]
  },
  {
   "cell_type": "code",
   "execution_count": 20,
   "id": "fa219ba6-e4ff-46ff-b322-1ca46644d908",
   "metadata": {},
   "outputs": [
    {
     "data": {
      "text/plain": [
       "1191.0235774044977"
      ]
     },
     "execution_count": 20,
     "metadata": {},
     "output_type": "execute_result"
    }
   ],
   "source": [
    "model_km5.inertia_"
   ]
  },
  {
   "cell_type": "code",
   "execution_count": 21,
   "id": "bb218ed9-5902-4b70-b87c-1f6dc40ef334",
   "metadata": {},
   "outputs": [
    {
     "data": {
      "text/plain": [
       "<matplotlib.collections.PathCollection at 0x9f33ae6c70>"
      ]
     },
     "execution_count": 21,
     "metadata": {},
     "output_type": "execute_result"
    },
    {
     "data": {
      "image/png": "[encoded data removed]",
      "text/plain": [
       "<Figure size 432x288 with 1 Axes>"
      ]
     },
     "metadata": {
      "needs_background": "light"
     },
     "output_type": "display_data"
    }
   ],
   "source": [
    "plt.scatter(dummy[:,0], dummy[:,1],c=model_km5.labels_)"
   ]
  },
  {
   "cell_type": "code",
   "execution_count": 22,
   "id": "70e4d28b-9486-4eea-bc49-da349984ed50",
   "metadata": {},
   "outputs": [
    {
     "data": {
      "text/plain": [
       "<matplotlib.collections.PathCollection at 0x9f33af3490>"
      ]
     },
     "execution_count": 22,
     "metadata": {},
     "output_type": "execute_result"
    },
    {
     "data": {
      "image/png": "[encoded data removed]",
      "text/plain": [
       "<Figure size 432x288 with 1 Axes>"
      ]
     },
     "metadata": {
      "needs_background": "light"
     },
     "output_type": "display_data"
    }
   ],
   "source": [
    "plt.scatter(dummy[:,0], dummy[:,1],c=labels)"
   ]
  },
  {
   "cell_type": "code",
   "execution_count": 23,
   "id": "b6ff04a7-ab9e-4972-b955-513da1779008",
   "metadata": {},
   "outputs": [],
   "source": [
    "inert = []\n",
    "for i in range(2,11):\n",
    "    model_i = KMeans(n_clusters=i).fit(dummy)\n",
    "    inert.append(model_i.inertia_)"
   ]
  },
  {
   "cell_type": "code",
   "execution_count": 24,
   "id": "62bbf5dd-8eb1-4204-8724-b4788be3a786",
   "metadata": {},
   "outputs": [
    {
     "data": {
      "text/plain": [
       "Text(0, 0.5, 'Inertia')"
      ]
     },
     "execution_count": 24,
     "metadata": {},
     "output_type": "execute_result"
    },
    {
     "data": {
      "image/png": "[encoded data removed]",
      "text/plain": [
       "<Figure size 1296x432 with 1 Axes>"
      ]
     },
     "metadata": {
      "needs_background": "light"
     },
     "output_type": "display_data"
    }
   ],
   "source": [
    "plt.figure(figsize=(18,6))\n",
    "plt.plot(range(2,11), inert,marker='o')\n",
    "plt.grid()\n",
    "plt.xlabel('N_clusters')\n",
    "plt.ylabel('Inertia')"
   ]
  },
  {
   "cell_type": "code",
   "execution_count": 25,
   "id": "35155486-6d40-4267-a4a4-3639239a5b10",
   "metadata": {},
   "outputs": [
    {
     "data": {
      "text/plain": [
       "array([[1.799e+01, 1.038e+01, 1.228e+02, ..., 2.654e-01, 4.601e-01,\n",
       "        1.189e-01],\n",
       "       [2.057e+01, 1.777e+01, 1.329e+02, ..., 1.860e-01, 2.750e-01,\n",
       "        8.902e-02],\n",
       "       [1.969e+01, 2.125e+01, 1.300e+02, ..., 2.430e-01, 3.613e-01,\n",
       "        8.758e-02],\n",
       "       ...,\n",
       "       [1.660e+01, 2.808e+01, 1.083e+02, ..., 1.418e-01, 2.218e-01,\n",
       "        7.820e-02],\n",
       "       [2.060e+01, 2.933e+01, 1.401e+02, ..., 2.650e-01, 4.087e-01,\n",
       "        1.240e-01],\n",
       "       [7.760e+00, 2.454e+01, 4.792e+01, ..., 0.000e+00, 2.871e-01,\n",
       "        7.039e-02]])"
      ]
     },
     "execution_count": 25,
     "metadata": {},
     "output_type": "execute_result"
    }
   ],
   "source": [
    "cancer['data']"
   ]
  },
  {
   "cell_type": "code",
   "execution_count": 26,
   "id": "9b15970d-5175-4306-ae99-8ea015c96692",
   "metadata": {},
   "outputs": [
    {
     "data": {
      "text/plain": [
       "<matplotlib.collections.PathCollection at 0x9f33be5df0>"
      ]
     },
     "execution_count": 26,
     "metadata": {},
     "output_type": "execute_result"
    },
    {
     "data": {
      "image/png": "[encoded data removed]",
      "text/plain": [
       "<Figure size 432x288 with 1 Axes>"
      ]
     },
     "metadata": {
      "needs_background": "light"
     },
     "output_type": "display_data"
    }
   ],
   "source": [
    "plt.scatter(cancer['data'][:,0],cancer['data'][:,1])"
   ]
  },
  {
   "cell_type": "code",
   "execution_count": 27,
   "id": "23615ba6-2f31-44f1-8ed9-02bbc5350af1",
   "metadata": {},
   "outputs": [],
   "source": [
    "import seaborn as sns"
   ]
  },
  {
   "cell_type": "code",
   "execution_count": 28,
   "id": "0e9c1c56-cd9d-4770-8918-408685e0993c",
   "metadata": {},
   "outputs": [],
   "source": [
    "inertia = []\n",
    "for i in range(2,20):\n",
    "    model_c = KMeans(n_clusters=i).fit(cancer['data'])\n",
    "    inertia.append(model_c.inertia_)\n"
   ]
  },
  {
   "cell_type": "code",
   "execution_count": 29,
   "id": "76fe6a53-b253-465a-997d-78364479d059",
   "metadata": {},
   "outputs": [
    {
     "data": {
      "text/plain": [
       "[77943099.87829885,\n",
       " 47285926.903706744,\n",
       " 29226541.651979823,\n",
       " 20535235.908362113,\n",
       " 16558716.702017274,\n",
       " 13246985.693693068,\n",
       " 11213057.460143976,\n",
       " 9581177.199176595,\n",
       " 8378858.736618948,\n",
       " 7648227.028506482,\n",
       " 6789518.170883614,\n",
       " 6145517.414860446,\n",
       " 5714146.28350298,\n",
       " 5339386.2427257,\n",
       " 4808398.410996246,\n",
       " 4336406.006986344,\n",
       " 4149754.7289943313,\n",
       " 3700122.5516919205]"
      ]
     },
     "execution_count": 29,
     "metadata": {},
     "output_type": "execute_result"
    }
   ],
   "source": [
    "inertia"
   ]
  },
  {
   "cell_type": "code",
   "execution_count": 30,
   "id": "40d1e9b0-e106-4b6a-9c98-f142fb758f5d",
   "metadata": {},
   "outputs": [
    {
     "data": {
      "text/plain": [
       "Text(0, 0.5, 'Inertia')"
      ]
     },
     "execution_count": 30,
     "metadata": {},
     "output_type": "execute_result"
    },
    {
     "data": {
      "image/png": "[encoded data removed]",
      "text/plain": [
       "<Figure size 1296x432 with 1 Axes>"
      ]
     },
     "metadata": {
      "needs_background": "light"
     },
     "output_type": "display_data"
    }
   ],
   "source": [
    "plt.figure(figsize=(18,6))\n",
    "plt.plot(range(2,20), inertia,marker='o')\n",
    "plt.grid()\n",
    "plt.xticks(range(2,20))\n",
    "plt.xlabel('N_clusters')\n",
    "plt.ylabel('Inertia')"
   ]
  },
  {
   "cell_type": "code",
   "execution_count": 31,
   "id": "06700a9d-4e90-4be6-bb6d-606099bba00c",
   "metadata": {},
   "outputs": [],
   "source": [
    "from sklearn.decomposition import PCA\n",
    "from sklearn.preprocessing import StandardScaler"
   ]
  },
  {
   "cell_type": "code",
   "execution_count": 32,
   "id": "4c5d5d57-81f4-4ca9-bf6d-a39380348c01",
   "metadata": {},
   "outputs": [],
   "source": [
    "cancer_sc = StandardScaler().fit_transform(cancer['data'])"
   ]
  },
  {
   "cell_type": "code",
   "execution_count": 33,
   "id": "0e985056-86bb-4793-9197-de58af7bd34d",
   "metadata": {},
   "outputs": [
    {
     "data": {
      "text/html": [
       "<div>\n",
       "<style scoped>\n",
       "    .dataframe tbody tr th:only-of-type {\n",
       "        vertical-align: middle;\n",
       "    }\n",
       "\n",
       "    .dataframe tbody tr th {\n",
       "        vertical-align: top;\n",
       "    }\n",
       "\n",
       "    .dataframe thead th {\n",
       "        text-align: right;\n",
       "    }\n",
       "</style>\n",
       "<table border=\"1\" class=\"dataframe\">\n",
       "  <thead>\n",
       "    <tr style=\"text-align: right;\">\n",
       "      <th></th>\n",
       "      <th>0</th>\n",
       "      <th>1</th>\n",
       "      <th>2</th>\n",
       "      <th>3</th>\n",
       "      <th>4</th>\n",
       "      <th>5</th>\n",
       "      <th>6</th>\n",
       "      <th>7</th>\n",
       "      <th>8</th>\n",
       "      <th>9</th>\n",
       "      <th>...</th>\n",
       "      <th>20</th>\n",
       "      <th>21</th>\n",
       "      <th>22</th>\n",
       "      <th>23</th>\n",
       "      <th>24</th>\n",
       "      <th>25</th>\n",
       "      <th>26</th>\n",
       "      <th>27</th>\n",
       "      <th>28</th>\n",
       "      <th>29</th>\n",
       "    </tr>\n",
       "  </thead>\n",
       "  <tbody>\n",
       "    <tr>\n",
       "      <th>0</th>\n",
       "      <td>1.097064</td>\n",
       "      <td>-2.073335</td>\n",
       "      <td>1.269934</td>\n",
       "      <td>0.984375</td>\n",
       "      <td>1.568466</td>\n",
       "      <td>3.283515</td>\n",
       "      <td>2.652874</td>\n",
       "      <td>2.532475</td>\n",
       "      <td>2.217515</td>\n",
       "      <td>2.255747</td>\n",
       "      <td>...</td>\n",
       "      <td>1.886690</td>\n",
       "      <td>-1.359293</td>\n",
       "      <td>2.303601</td>\n",
       "      <td>2.001237</td>\n",
       "      <td>1.307686</td>\n",
       "      <td>2.616665</td>\n",
       "      <td>2.109526</td>\n",
       "      <td>2.296076</td>\n",
       "      <td>2.750622</td>\n",
       "      <td>1.937015</td>\n",
       "    </tr>\n",
       "    <tr>\n",
       "      <th>1</th>\n",
       "      <td>1.829821</td>\n",
       "      <td>-0.353632</td>\n",
       "      <td>1.685955</td>\n",
       "      <td>1.908708</td>\n",
       "      <td>-0.826962</td>\n",
       "      <td>-0.487072</td>\n",
       "      <td>-0.023846</td>\n",
       "      <td>0.548144</td>\n",
       "      <td>0.001392</td>\n",
       "      <td>-0.868652</td>\n",
       "      <td>...</td>\n",
       "      <td>1.805927</td>\n",
       "      <td>-0.369203</td>\n",
       "      <td>1.535126</td>\n",
       "      <td>1.890489</td>\n",
       "      <td>-0.375612</td>\n",
       "      <td>-0.430444</td>\n",
       "      <td>-0.146749</td>\n",
       "      <td>1.087084</td>\n",
       "      <td>-0.243890</td>\n",
       "      <td>0.281190</td>\n",
       "    </tr>\n",
       "    <tr>\n",
       "      <th>2</th>\n",
       "      <td>1.579888</td>\n",
       "      <td>0.456187</td>\n",
       "      <td>1.566503</td>\n",
       "      <td>1.558884</td>\n",
       "      <td>0.942210</td>\n",
       "      <td>1.052926</td>\n",
       "      <td>1.363478</td>\n",
       "      <td>2.037231</td>\n",
       "      <td>0.939685</td>\n",
       "      <td>-0.398008</td>\n",
       "      <td>...</td>\n",
       "      <td>1.511870</td>\n",
       "      <td>-0.023974</td>\n",
       "      <td>1.347475</td>\n",
       "      <td>1.456285</td>\n",
       "      <td>0.527407</td>\n",
       "      <td>1.082932</td>\n",
       "      <td>0.854974</td>\n",
       "      <td>1.955000</td>\n",
       "      <td>1.152255</td>\n",
       "      <td>0.201391</td>\n",
       "    </tr>\n",
       "    <tr>\n",
       "      <th>3</th>\n",
       "      <td>-0.768909</td>\n",
       "      <td>0.253732</td>\n",
       "      <td>-0.592687</td>\n",
       "      <td>-0.764464</td>\n",
       "      <td>3.283553</td>\n",
       "      <td>3.402909</td>\n",
       "      <td>1.915897</td>\n",
       "      <td>1.451707</td>\n",
       "      <td>2.867383</td>\n",
       "      <td>4.910919</td>\n",
       "      <td>...</td>\n",
       "      <td>-0.281464</td>\n",
       "      <td>0.133984</td>\n",
       "      <td>-0.249939</td>\n",
       "      <td>-0.550021</td>\n",
       "      <td>3.394275</td>\n",
       "      <td>3.893397</td>\n",
       "      <td>1.989588</td>\n",
       "      <td>2.175786</td>\n",
       "      <td>6.046041</td>\n",
       "      <td>4.935010</td>\n",
       "    </tr>\n",
       "    <tr>\n",
       "      <th>4</th>\n",
       "      <td>1.750297</td>\n",
       "      <td>-1.151816</td>\n",
       "      <td>1.776573</td>\n",
       "      <td>1.826229</td>\n",
       "      <td>0.280372</td>\n",
       "      <td>0.539340</td>\n",
       "      <td>1.371011</td>\n",
       "      <td>1.428493</td>\n",
       "      <td>-0.009560</td>\n",
       "      <td>-0.562450</td>\n",
       "      <td>...</td>\n",
       "      <td>1.298575</td>\n",
       "      <td>-1.466770</td>\n",
       "      <td>1.338539</td>\n",
       "      <td>1.220724</td>\n",
       "      <td>0.220556</td>\n",
       "      <td>-0.313395</td>\n",
       "      <td>0.613179</td>\n",
       "      <td>0.729259</td>\n",
       "      <td>-0.868353</td>\n",
       "      <td>-0.397100</td>\n",
       "    </tr>\n",
       "  </tbody>\n",
       "</table>\n",
       "<p>5 rows × 30 columns</p>\n",
       "</div>"
      ],
      "text/plain": [
       "         0         1         2         3         4         5         6   \\\n",
       "0  1.097064 -2.073335  1.269934  0.984375  1.568466  3.283515  2.652874   \n",
       "1  1.829821 -0.353632  1.685955  1.908708 -0.826962 -0.487072 -0.023846   \n",
       "2  1.579888  0.456187  1.566503  1.558884  0.942210  1.052926  1.363478   \n",
       "3 -0.768909  0.253732 -0.592687 -0.764464  3.283553  3.402909  1.915897   \n",
       "4  1.750297 -1.151816  1.776573  1.826229  0.280372  0.539340  1.371011   \n",
       "\n",
       "         7         8         9   ...        20        21        22        23  \\\n",
       "0  2.532475  2.217515  2.255747  ...  1.886690 -1.359293  2.303601  2.001237   \n",
       "1  0.548144  0.001392 -0.868652  ...  1.805927 -0.369203  1.535126  1.890489   \n",
       "2  2.037231  0.939685 -0.398008  ...  1.511870 -0.023974  1.347475  1.456285   \n",
       "3  1.451707  2.867383  4.910919  ... -0.281464  0.133984 -0.249939 -0.550021   \n",
       "4  1.428493 -0.009560 -0.562450  ...  1.298575 -1.466770  1.338539  1.220724   \n",
       "\n",
       "         24        25        26        27        28        29  \n",
       "0  1.307686  2.616665  2.109526  2.296076  2.750622  1.937015  \n",
       "1 -0.375612 -0.430444 -0.146749  1.087084 -0.243890  0.281190  \n",
       "2  0.527407  1.082932  0.854974  1.955000  1.152255  0.201391  \n",
       "3  3.394275  3.893397  1.989588  2.175786  6.046041  4.935010  \n",
       "4  0.220556 -0.313395  0.613179  0.729259 -0.868353 -0.397100  \n",
       "\n",
       "[5 rows x 30 columns]"
      ]
     },
     "execution_count": 33,
     "metadata": {},
     "output_type": "execute_result"
    }
   ],
   "source": [
    "pd.DataFrame(cancer_sc).head()"
   ]
  },
  {
   "cell_type": "code",
   "execution_count": 34,
   "id": "f736ef54-e04f-46ad-8119-c0839fefa109",
   "metadata": {},
   "outputs": [
    {
     "data": {
      "text/html": [
       "<div>\n",
       "<style scoped>\n",
       "    .dataframe tbody tr th:only-of-type {\n",
       "        vertical-align: middle;\n",
       "    }\n",
       "\n",
       "    .dataframe tbody tr th {\n",
       "        vertical-align: top;\n",
       "    }\n",
       "\n",
       "    .dataframe thead th {\n",
       "        text-align: right;\n",
       "    }\n",
       "</style>\n",
       "<table border=\"1\" class=\"dataframe\">\n",
       "  <thead>\n",
       "    <tr style=\"text-align: right;\">\n",
       "      <th></th>\n",
       "      <th>0</th>\n",
       "      <th>1</th>\n",
       "      <th>2</th>\n",
       "      <th>3</th>\n",
       "      <th>4</th>\n",
       "      <th>5</th>\n",
       "      <th>6</th>\n",
       "      <th>7</th>\n",
       "      <th>8</th>\n",
       "      <th>9</th>\n",
       "      <th>...</th>\n",
       "      <th>20</th>\n",
       "      <th>21</th>\n",
       "      <th>22</th>\n",
       "      <th>23</th>\n",
       "      <th>24</th>\n",
       "      <th>25</th>\n",
       "      <th>26</th>\n",
       "      <th>27</th>\n",
       "      <th>28</th>\n",
       "      <th>29</th>\n",
       "    </tr>\n",
       "  </thead>\n",
       "  <tbody>\n",
       "    <tr>\n",
       "      <th>count</th>\n",
       "      <td>5.690000e+02</td>\n",
       "      <td>5.690000e+02</td>\n",
       "      <td>5.690000e+02</td>\n",
       "      <td>5.690000e+02</td>\n",
       "      <td>5.690000e+02</td>\n",
       "      <td>5.690000e+02</td>\n",
       "      <td>5.690000e+02</td>\n",
       "      <td>5.690000e+02</td>\n",
       "      <td>5.690000e+02</td>\n",
       "      <td>5.690000e+02</td>\n",
       "      <td>...</td>\n",
       "      <td>5.690000e+02</td>\n",
       "      <td>5.690000e+02</td>\n",
       "      <td>5.690000e+02</td>\n",
       "      <td>5.690000e+02</td>\n",
       "      <td>5.690000e+02</td>\n",
       "      <td>5.690000e+02</td>\n",
       "      <td>5.690000e+02</td>\n",
       "      <td>5.690000e+02</td>\n",
       "      <td>5.690000e+02</td>\n",
       "      <td>5.690000e+02</td>\n",
       "    </tr>\n",
       "    <tr>\n",
       "      <th>mean</th>\n",
       "      <td>-3.162867e-15</td>\n",
       "      <td>-6.530609e-15</td>\n",
       "      <td>-7.078891e-16</td>\n",
       "      <td>-8.799835e-16</td>\n",
       "      <td>6.132177e-15</td>\n",
       "      <td>-1.120369e-15</td>\n",
       "      <td>-4.421380e-16</td>\n",
       "      <td>9.732500e-16</td>\n",
       "      <td>-1.971670e-15</td>\n",
       "      <td>-1.453631e-15</td>\n",
       "      <td>...</td>\n",
       "      <td>-2.333224e-15</td>\n",
       "      <td>1.763674e-15</td>\n",
       "      <td>-1.198026e-15</td>\n",
       "      <td>5.049661e-16</td>\n",
       "      <td>-5.213170e-15</td>\n",
       "      <td>-2.174788e-15</td>\n",
       "      <td>6.856456e-16</td>\n",
       "      <td>-1.412656e-16</td>\n",
       "      <td>-2.289567e-15</td>\n",
       "      <td>2.575171e-15</td>\n",
       "    </tr>\n",
       "    <tr>\n",
       "      <th>std</th>\n",
       "      <td>1.000880e+00</td>\n",
       "      <td>1.000880e+00</td>\n",
       "      <td>1.000880e+00</td>\n",
       "      <td>1.000880e+00</td>\n",
       "      <td>1.000880e+00</td>\n",
       "      <td>1.000880e+00</td>\n",
       "      <td>1.000880e+00</td>\n",
       "      <td>1.000880e+00</td>\n",
       "      <td>1.000880e+00</td>\n",
       "      <td>1.000880e+00</td>\n",
       "      <td>...</td>\n",
       "      <td>1.000880e+00</td>\n",
       "      <td>1.000880e+00</td>\n",
       "      <td>1.000880e+00</td>\n",
       "      <td>1.000880e+00</td>\n",
       "      <td>1.000880e+00</td>\n",
       "      <td>1.000880e+00</td>\n",
       "      <td>1.000880e+00</td>\n",
       "      <td>1.000880e+00</td>\n",
       "      <td>1.000880e+00</td>\n",
       "      <td>1.000880e+00</td>\n",
       "    </tr>\n",
       "    <tr>\n",
       "      <th>min</th>\n",
       "      <td>-2.029648e+00</td>\n",
       "      <td>-2.229249e+00</td>\n",
       "      <td>-1.984504e+00</td>\n",
       "      <td>-1.454443e+00</td>\n",
       "      <td>-3.112085e+00</td>\n",
       "      <td>-1.610136e+00</td>\n",
       "      <td>-1.114873e+00</td>\n",
       "      <td>-1.261820e+00</td>\n",
       "      <td>-2.744117e+00</td>\n",
       "      <td>-1.819865e+00</td>\n",
       "      <td>...</td>\n",
       "      <td>-1.726901e+00</td>\n",
       "      <td>-2.223994e+00</td>\n",
       "      <td>-1.693361e+00</td>\n",
       "      <td>-1.222423e+00</td>\n",
       "      <td>-2.682695e+00</td>\n",
       "      <td>-1.443878e+00</td>\n",
       "      <td>-1.305831e+00</td>\n",
       "      <td>-1.745063e+00</td>\n",
       "      <td>-2.160960e+00</td>\n",
       "      <td>-1.601839e+00</td>\n",
       "    </tr>\n",
       "    <tr>\n",
       "      <th>25%</th>\n",
       "      <td>-6.893853e-01</td>\n",
       "      <td>-7.259631e-01</td>\n",
       "      <td>-6.919555e-01</td>\n",
       "      <td>-6.671955e-01</td>\n",
       "      <td>-7.109628e-01</td>\n",
       "      <td>-7.470860e-01</td>\n",
       "      <td>-7.437479e-01</td>\n",
       "      <td>-7.379438e-01</td>\n",
       "      <td>-7.032397e-01</td>\n",
       "      <td>-7.226392e-01</td>\n",
       "      <td>...</td>\n",
       "      <td>-6.749213e-01</td>\n",
       "      <td>-7.486293e-01</td>\n",
       "      <td>-6.895783e-01</td>\n",
       "      <td>-6.421359e-01</td>\n",
       "      <td>-6.912304e-01</td>\n",
       "      <td>-6.810833e-01</td>\n",
       "      <td>-7.565142e-01</td>\n",
       "      <td>-7.563999e-01</td>\n",
       "      <td>-6.418637e-01</td>\n",
       "      <td>-6.919118e-01</td>\n",
       "    </tr>\n",
       "    <tr>\n",
       "      <th>50%</th>\n",
       "      <td>-2.150816e-01</td>\n",
       "      <td>-1.046362e-01</td>\n",
       "      <td>-2.359800e-01</td>\n",
       "      <td>-2.951869e-01</td>\n",
       "      <td>-3.489108e-02</td>\n",
       "      <td>-2.219405e-01</td>\n",
       "      <td>-3.422399e-01</td>\n",
       "      <td>-3.977212e-01</td>\n",
       "      <td>-7.162650e-02</td>\n",
       "      <td>-1.782793e-01</td>\n",
       "      <td>...</td>\n",
       "      <td>-2.690395e-01</td>\n",
       "      <td>-4.351564e-02</td>\n",
       "      <td>-2.859802e-01</td>\n",
       "      <td>-3.411812e-01</td>\n",
       "      <td>-4.684277e-02</td>\n",
       "      <td>-2.695009e-01</td>\n",
       "      <td>-2.182321e-01</td>\n",
       "      <td>-2.234689e-01</td>\n",
       "      <td>-1.274095e-01</td>\n",
       "      <td>-2.164441e-01</td>\n",
       "    </tr>\n",
       "    <tr>\n",
       "      <th>75%</th>\n",
       "      <td>4.693926e-01</td>\n",
       "      <td>5.841756e-01</td>\n",
       "      <td>4.996769e-01</td>\n",
       "      <td>3.635073e-01</td>\n",
       "      <td>6.361990e-01</td>\n",
       "      <td>4.938569e-01</td>\n",
       "      <td>5.260619e-01</td>\n",
       "      <td>6.469351e-01</td>\n",
       "      <td>5.307792e-01</td>\n",
       "      <td>4.709834e-01</td>\n",
       "      <td>...</td>\n",
       "      <td>5.220158e-01</td>\n",
       "      <td>6.583411e-01</td>\n",
       "      <td>5.402790e-01</td>\n",
       "      <td>3.575891e-01</td>\n",
       "      <td>5.975448e-01</td>\n",
       "      <td>5.396688e-01</td>\n",
       "      <td>5.311411e-01</td>\n",
       "      <td>7.125100e-01</td>\n",
       "      <td>4.501382e-01</td>\n",
       "      <td>4.507624e-01</td>\n",
       "    </tr>\n",
       "    <tr>\n",
       "      <th>max</th>\n",
       "      <td>3.971288e+00</td>\n",
       "      <td>4.651889e+00</td>\n",
       "      <td>3.976130e+00</td>\n",
       "      <td>5.250529e+00</td>\n",
       "      <td>4.770911e+00</td>\n",
       "      <td>4.568425e+00</td>\n",
       "      <td>4.243589e+00</td>\n",
       "      <td>3.927930e+00</td>\n",
       "      <td>4.484751e+00</td>\n",
       "      <td>4.910919e+00</td>\n",
       "      <td>...</td>\n",
       "      <td>4.094189e+00</td>\n",
       "      <td>3.885905e+00</td>\n",
       "      <td>4.287337e+00</td>\n",
       "      <td>5.930172e+00</td>\n",
       "      <td>3.955374e+00</td>\n",
       "      <td>5.112877e+00</td>\n",
       "      <td>4.700669e+00</td>\n",
       "      <td>2.685877e+00</td>\n",
       "      <td>6.046041e+00</td>\n",
       "      <td>6.846856e+00</td>\n",
       "    </tr>\n",
       "  </tbody>\n",
       "</table>\n",
       "<p>8 rows × 30 columns</p>\n",
       "</div>"
      ],
      "text/plain": [
       "                 0             1             2             3             4   \\\n",
       "count  5.690000e+02  5.690000e+02  5.690000e+02  5.690000e+02  5.690000e+02   \n",
       "mean  -3.162867e-15 -6.530609e-15 -7.078891e-16 -8.799835e-16  6.132177e-15   \n",
       "std    1.000880e+00  1.000880e+00  1.000880e+00  1.000880e+00  1.000880e+00   \n",
       "min   -2.029648e+00 -2.229249e+00 -1.984504e+00 -1.454443e+00 -3.112085e+00   \n",
       "25%   -6.893853e-01 -7.259631e-01 -6.919555e-01 -6.671955e-01 -7.109628e-01   \n",
       "50%   -2.150816e-01 -1.046362e-01 -2.359800e-01 -2.951869e-01 -3.489108e-02   \n",
       "75%    4.693926e-01  5.841756e-01  4.996769e-01  3.635073e-01  6.361990e-01   \n",
       "max    3.971288e+00  4.651889e+00  3.976130e+00  5.250529e+00  4.770911e+00   \n",
       "\n",
       "                 5             6             7             8             9   \\\n",
       "count  5.690000e+02  5.690000e+02  5.690000e+02  5.690000e+02  5.690000e+02   \n",
       "mean  -1.120369e-15 -4.421380e-16  9.732500e-16 -1.971670e-15 -1.453631e-15   \n",
       "std    1.000880e+00  1.000880e+00  1.000880e+00  1.000880e+00  1.000880e+00   \n",
       "min   -1.610136e+00 -1.114873e+00 -1.261820e+00 -2.744117e+00 -1.819865e+00   \n",
       "25%   -7.470860e-01 -7.437479e-01 -7.379438e-01 -7.032397e-01 -7.226392e-01   \n",
       "50%   -2.219405e-01 -3.422399e-01 -3.977212e-01 -7.162650e-02 -1.782793e-01   \n",
       "75%    4.938569e-01  5.260619e-01  6.469351e-01  5.307792e-01  4.709834e-01   \n",
       "max    4.568425e+00  4.243589e+00  3.927930e+00  4.484751e+00  4.910919e+00   \n",
       "\n",
       "       ...            20            21            22            23  \\\n",
       "count  ...  5.690000e+02  5.690000e+02  5.690000e+02  5.690000e+02   \n",
       "mean   ... -2.333224e-15  1.763674e-15 -1.198026e-15  5.049661e-16   \n",
       "std    ...  1.000880e+00  1.000880e+00  1.000880e+00  1.000880e+00   \n",
       "min    ... -1.726901e+00 -2.223994e+00 -1.693361e+00 -1.222423e+00   \n",
       "25%    ... -6.749213e-01 -7.486293e-01 -6.895783e-01 -6.421359e-01   \n",
       "50%    ... -2.690395e-01 -4.351564e-02 -2.859802e-01 -3.411812e-01   \n",
       "75%    ...  5.220158e-01  6.583411e-01  5.402790e-01  3.575891e-01   \n",
       "max    ...  4.094189e+00  3.885905e+00  4.287337e+00  5.930172e+00   \n",
       "\n",
       "                 24            25            26            27            28  \\\n",
       "count  5.690000e+02  5.690000e+02  5.690000e+02  5.690000e+02  5.690000e+02   \n",
       "mean  -5.213170e-15 -2.174788e-15  6.856456e-16 -1.412656e-16 -2.289567e-15   \n",
       "std    1.000880e+00  1.000880e+00  1.000880e+00  1.000880e+00  1.000880e+00   \n",
       "min   -2.682695e+00 -1.443878e+00 -1.305831e+00 -1.745063e+00 -2.160960e+00   \n",
       "25%   -6.912304e-01 -6.810833e-01 -7.565142e-01 -7.563999e-01 -6.418637e-01   \n",
       "50%   -4.684277e-02 -2.695009e-01 -2.182321e-01 -2.234689e-01 -1.274095e-01   \n",
       "75%    5.975448e-01  5.396688e-01  5.311411e-01  7.125100e-01  4.501382e-01   \n",
       "max    3.955374e+00  5.112877e+00  4.700669e+00  2.685877e+00  6.046041e+00   \n",
       "\n",
       "                 29  \n",
       "count  5.690000e+02  \n",
       "mean   2.575171e-15  \n",
       "std    1.000880e+00  \n",
       "min   -1.601839e+00  \n",
       "25%   -6.919118e-01  \n",
       "50%   -2.164441e-01  \n",
       "75%    4.507624e-01  \n",
       "max    6.846856e+00  \n",
       "\n",
       "[8 rows x 30 columns]"
      ]
     },
     "execution_count": 34,
     "metadata": {},
     "output_type": "execute_result"
    }
   ],
   "source": [
    "pd.DataFrame(cancer_sc).describe()"
   ]
  },
  {
   "cell_type": "code",
   "execution_count": null,
   "id": "c66d31ef-de38-4e90-9bb3-feec69f5014e",
   "metadata": {},
   "outputs": [],
   "source": []
  },
  {
   "cell_type": "code",
   "execution_count": null,
   "id": "c926bcdc-b20b-40c1-b405-d7e695ff766b",
   "metadata": {},
   "outputs": [],
   "source": []
  }
 ],
 "metadata": {
  "kernelspec": {
   "display_name": "Python 3",
   "language": "python",
   "name": "python3"
  },
  "language_info": {
   "codemirror_mode": {
    "name": "ipython",
    "version": 3
   },
   "file_extension": ".py",
   "mimetype": "text/x-python",
   "name": "python",
   "nbconvert_exporter": "python",
   "pygments_lexer": "ipython3",
   "version": "3.8.8"
  }
 },
 "nbformat": 4,
 "nbformat_minor": 5
}
