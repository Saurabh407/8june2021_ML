{
 "cells": [
  {
   "cell_type": "code",
   "execution_count": 1,
   "id": "d036e0fa-f948-44a0-ba6d-58851f8ae9fb",
   "metadata": {},
   "outputs": [
    {
     "data": {
      "text/plain": [
       "1953125"
      ]
     },
     "execution_count": 1,
     "metadata": {},
     "output_type": "execute_result"
    }
   ],
   "source": [
    "5**9"
   ]
  },
  {
   "cell_type": "code",
   "execution_count": 2,
   "id": "e0644900-316c-45f2-a8e3-6b8210d24526",
   "metadata": {},
   "outputs": [
    {
     "data": {
      "text/plain": [
       "1"
      ]
     },
     "execution_count": 2,
     "metadata": {},
     "output_type": "execute_result"
    }
   ],
   "source": [
    "3//2"
   ]
  },
  {
   "cell_type": "code",
   "execution_count": 3,
   "id": "be60966f-b0e7-4ec7-aa4e-6f239e566646",
   "metadata": {},
   "outputs": [
    {
     "data": {
      "text/plain": [
       "2"
      ]
     },
     "execution_count": 3,
     "metadata": {},
     "output_type": "execute_result"
    }
   ],
   "source": [
    "7//3"
   ]
  },
  {
   "cell_type": "code",
   "execution_count": 4,
   "id": "7a8cfd04-3854-4d13-8259-b6043a889354",
   "metadata": {},
   "outputs": [
    {
     "data": {
      "text/plain": [
       "2.3333333333333335"
      ]
     },
     "execution_count": 4,
     "metadata": {},
     "output_type": "execute_result"
    }
   ],
   "source": [
    "7/3"
   ]
  },
  {
   "cell_type": "code",
   "execution_count": 5,
   "id": "88a61592-17e6-45cc-9d4a-ce0f1d0a4ccf",
   "metadata": {},
   "outputs": [
    {
     "data": {
      "text/plain": [
       "True"
      ]
     },
     "execution_count": 5,
     "metadata": {},
     "output_type": "execute_result"
    }
   ],
   "source": [
    "6==6"
   ]
  },
  {
   "cell_type": "code",
   "execution_count": 6,
   "id": "77353175-186d-4c98-95d7-3c85467d59a7",
   "metadata": {},
   "outputs": [
    {
     "name": "stdout",
     "output_type": "stream",
     "text": [
      "2\n"
     ]
    }
   ],
   "source": [
    "a=20\n",
    "a+=30\n",
    "a%=3\n",
    "print(a)"
   ]
  },
  {
   "cell_type": "code",
   "execution_count": 7,
   "id": "3af41bd7-21b6-4e78-8474-62eb2314f876",
   "metadata": {},
   "outputs": [
    {
     "data": {
      "text/plain": [
       "0"
      ]
     },
     "execution_count": 7,
     "metadata": {},
     "output_type": "execute_result"
    }
   ],
   "source": [
    "True*False"
   ]
  },
  {
   "cell_type": "code",
   "execution_count": 8,
   "id": "c94b7324-7769-415b-b651-6f0b1e8c096c",
   "metadata": {},
   "outputs": [
    {
     "data": {
      "text/plain": [
       "False"
      ]
     },
     "execution_count": 8,
     "metadata": {},
     "output_type": "execute_result"
    }
   ],
   "source": [
    "True&False"
   ]
  },
  {
   "cell_type": "code",
   "execution_count": 9,
   "id": "0ea137d9-c224-49f2-837b-b0de1a683fcd",
   "metadata": {},
   "outputs": [
    {
     "data": {
      "text/plain": [
       "False"
      ]
     },
     "execution_count": 9,
     "metadata": {},
     "output_type": "execute_result"
    }
   ],
   "source": [
    " True and False"
   ]
  },
  {
   "cell_type": "code",
   "execution_count": 10,
   "id": "3e3403f1-24ed-4731-86d7-64f4c27ed309",
   "metadata": {},
   "outputs": [
    {
     "data": {
      "text/plain": [
       "False"
      ]
     },
     "execution_count": 10,
     "metadata": {},
     "output_type": "execute_result"
    }
   ],
   "source": [
    "((6>3) and (7<4) or(18==3)) and (9>3)"
   ]
  },
  {
   "cell_type": "code",
   "execution_count": 11,
   "id": "03a01d63-321b-4407-9998-3767ba99c08f",
   "metadata": {},
   "outputs": [
    {
     "data": {
      "text/plain": [
       "False"
      ]
     },
     "execution_count": 11,
     "metadata": {},
     "output_type": "execute_result"
    }
   ],
   "source": [
    "True is False"
   ]
  },
  {
   "cell_type": "code",
   "execution_count": 12,
   "id": "9db357e9-0e1b-4d33-a333-354c4ee3e95c",
   "metadata": {},
   "outputs": [
    {
     "data": {
      "text/plain": [
       "False"
      ]
     },
     "execution_count": 12,
     "metadata": {},
     "output_type": "execute_result"
    }
   ],
   "source": [
    "((True == False) or (False > True)) and (False <= True)"
   ]
  },
  {
   "cell_type": "code",
   "execution_count": 13,
   "id": "2e747d9d-721d-4d27-8f38-19655a57e38e",
   "metadata": {},
   "outputs": [
    {
     "name": "stdout",
     "output_type": "stream",
     "text": [
      "Nice to have ithere\n"
     ]
    }
   ],
   "source": [
    " s1=\"Nice to have it\"\n",
    ">>> s2=\"here\"\n",
    ">>> print(s1+s2)"
   ]
  },
  {
   "cell_type": "code",
   "execution_count": 14,
   "id": "e55f049c-2751-463e-ba6a-a866d237f40d",
   "metadata": {},
   "outputs": [
    {
     "name": "stdout",
     "output_type": "stream",
     "text": [
      "s1 s2\n"
     ]
    }
   ],
   "source": [
    "print('s1'+' '+'s2')"
   ]
  },
  {
   "cell_type": "code",
   "execution_count": 15,
   "id": "d31f1db0-24e1-4462-a075-75048dd3de67",
   "metadata": {},
   "outputs": [
    {
     "name": "stdout",
     "output_type": "stream",
     "text": [
      "s1 s2\n"
     ]
    }
   ],
   "source": [
    " print('s1'+' '+'s2')"
   ]
  },
  {
   "cell_type": "code",
   "execution_count": 16,
   "id": "4abb4148-af79-4c0a-843a-d41eddc7c162",
   "metadata": {},
   "outputs": [
    {
     "name": "stdout",
     "output_type": "stream",
     "text": [
      "['hello']\n"
     ]
    }
   ],
   "source": [
    " a = [1,2,[3,4],[5,[100,200,['hello']],23,11],1,7]\n",
    ">>> b= a[3][1][2]\n",
    ">>> print(b)"
   ]
  },
  {
   "cell_type": "code",
   "execution_count": 17,
   "id": "1e5b1103-ce1d-4b0d-b47f-5d844f3ab982",
   "metadata": {},
   "outputs": [
    {
     "name": "stdout",
     "output_type": "stream",
     "text": [
      "['Nice to have it', 1, 2, [3, 4], [5, [100, 200, ['hello']], 23, 11], 1, 7, 'here']\n"
     ]
    }
   ],
   "source": [
    " d=[s1,*a,s2]\n",
    ">>> print(d)"
   ]
  },
  {
   "cell_type": "code",
   "execution_count": 18,
   "id": "a7435125-0cc8-457f-be7f-1493b5045124",
   "metadata": {},
   "outputs": [
    {
     "name": "stdout",
     "output_type": "stream",
     "text": [
      "{'White', 'Black'}\n"
     ]
    }
   ],
   "source": [
    "color_list_1 = set([\"White\", \"Black\", \"Red\"])\n",
    ">>> color_list_2 = set([\"Red\", \"Green\"])\n",
    ">>> print(color_list_1.difference(color_list_2))"
   ]
  },
  {
   "cell_type": "code",
   "execution_count": 20,
   "id": "388ee521-bcb3-4cac-bb75-fff52cfad46a",
   "metadata": {},
   "outputs": [
    {
     "name": "stdin",
     "output_type": "stream",
     "text": [
      "enter a string saurabh\n"
     ]
    },
    {
     "data": {
      "text/plain": [
       "'saurabh'"
      ]
     },
     "execution_count": 20,
     "metadata": {},
     "output_type": "execute_result"
    }
   ],
   "source": [
    "a=input(\"enter a string\")\n",
    ">>> a.lower()"
   ]
  },
  {
   "cell_type": "code",
   "execution_count": 21,
   "id": "03e0fbc6-7d74-4f27-a064-82f7dfe85147",
   "metadata": {},
   "outputs": [
    {
     "ename": "KeyError",
     "evalue": "' '",
     "output_type": "error",
     "traceback": [
      "\u001b[1;31m---------------------------------------------------------------------------\u001b[0m",
      "\u001b[1;31mKeyError\u001b[0m                                  Traceback (most recent call last)",
      "\u001b[1;32m<ipython-input-21-158ad764f08e>\u001b[0m in \u001b[0;36m<module>\u001b[1;34m\u001b[0m\n\u001b[0;32m      1\u001b[0m \u001b[0mlist\u001b[0m\u001b[1;33m=\u001b[0m\u001b[0mlist\u001b[0m\u001b[1;33m(\u001b[0m\u001b[0ma\u001b[0m\u001b[1;33m)\u001b[0m\u001b[1;33m\u001b[0m\u001b[1;33m\u001b[0m\u001b[0m\n\u001b[0;32m      2\u001b[0m \u001b[0mset\u001b[0m\u001b[1;33m=\u001b[0m\u001b[0mset\u001b[0m\u001b[1;33m(\u001b[0m\u001b[0mlist\u001b[0m\u001b[1;33m)\u001b[0m\u001b[1;33m\u001b[0m\u001b[1;33m\u001b[0m\u001b[0m\n\u001b[1;32m----> 3\u001b[1;33m \u001b[0mset\u001b[0m\u001b[1;33m.\u001b[0m\u001b[0mremove\u001b[0m\u001b[1;33m(\u001b[0m\u001b[1;34m' '\u001b[0m\u001b[1;33m)\u001b[0m\u001b[1;33m\u001b[0m\u001b[1;33m\u001b[0m\u001b[0m\n\u001b[0m",
      "\u001b[1;31mKeyError\u001b[0m: ' '"
     ]
    }
   ],
   "source": [
    "list=list(a)\n",
    ">>> set=set(list)\n",
    ">>> set.remove(' ')"
   ]
  },
  {
   "cell_type": "code",
   "execution_count": 22,
   "id": "cc2b96c0-6b57-46e8-ad4c-ba7fe98e8409",
   "metadata": {},
   "outputs": [
    {
     "ename": "SyntaxError",
     "evalue": "invalid syntax (<ipython-input-22-af110c1d53a2>, line 1)",
     "output_type": "error",
     "traceback": [
      "\u001b[1;36m  File \u001b[1;32m\"<ipython-input-22-af110c1d53a2>\"\u001b[1;36m, line \u001b[1;32m1\u001b[0m\n\u001b[1;33m    > t=len(set)\u001b[0m\n\u001b[1;37m    ^\u001b[0m\n\u001b[1;31mSyntaxError\u001b[0m\u001b[1;31m:\u001b[0m invalid syntax\n"
     ]
    }
   ],
   "source": [
    "> t=len(set)\n",
    ">>> if t==26:\n",
    "\tprint(\"string is pangram\")\n",
    "\telse:"
   ]
  },
  {
   "cell_type": "code",
   "execution_count": 25,
   "id": "3000b721-b291-406d-ad03-29e98573c919",
   "metadata": {},
   "outputs": [
    {
     "name": "stdin",
     "output_type": "stream",
     "text": [
      "enter a number 5\n"
     ]
    }
   ],
   "source": [
    "s=input('enter a number')\n",
    "\n"
   ]
  },
  {
   "cell_type": "code",
   "execution_count": 26,
   "id": "fdae0a5c-5d50-44a0-a2ae-c87ef0a3106d",
   "metadata": {},
   "outputs": [
    {
     "name": "stdout",
     "output_type": "stream",
     "text": [
      "615\n"
     ]
    }
   ],
   "source": [
    " t=eval('{0}+{0}{0}+{0}{0}{0}'.format(s))\n",
    ">>> print(t)"
   ]
  },
  {
   "cell_type": "code",
   "execution_count": null,
   "id": "5bdf24df-d4e8-4f83-a38a-2fb293884b9f",
   "metadata": {},
   "outputs": [],
   "source": []
  }
 ],
 "metadata": {
  "kernelspec": {
   "display_name": "Python 3",
   "language": "python",
   "name": "python3"
  },
  "language_info": {
   "codemirror_mode": {
    "name": "ipython",
    "version": 3
   },
   "file_extension": ".py",
   "mimetype": "text/x-python",
   "name": "python",
   "nbconvert_exporter": "python",
   "pygments_lexer": "ipython3",
   "version": "3.8.8"
  }
 },
 "nbformat": 4,
 "nbformat_minor": 5
}
