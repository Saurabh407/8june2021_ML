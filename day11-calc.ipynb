{
 "cells": [
  {
   "cell_type": "code",
   "execution_count": 1,
   "id": "18a92090-9ee0-4f5e-b859-6a5fc820171a",
   "metadata": {},
   "outputs": [],
   "source": [
    "import tkinter as tk                     \n",
    "app=tk.Tk()                               \n",
    "app.title('CALCULATOR')              \n",
    "app.geometry('350x450')\n",
    "\n",
    "  \n",
    "value=tk.Variable(app)\n",
    "entry=tk.Entry(app,textvariable=value,width=30,font=10)\n",
    "entry.place(x=10,y=40,height=30)\n",
    "global expression\n",
    "expression=\"\"\n",
    "def operate(e):\n",
    "    global expression                           \n",
    "    expression=expression+e\n",
    "    value.set(expression)\n",
    "    \n",
    "def result(n):\n",
    "    global expression\n",
    "    r=eval(expression)\n",
    "    value.set(r)\n",
    "    expression=\"\"\n",
    "    \n",
    "    \n",
    "def clear():\n",
    "    global expression\n",
    "    entry.delete(0,'end')\n",
    "    expression=\"\"\n",
    "    \n",
    "    \n",
    "tk.Button(app,text='+',height=2,width=4,font=5,command=lambda:operate('+')).place(x=230,y=80)\n",
    "tk.Button(app,text='-',height=2,width=4,font=5,command=lambda:operate('-')).place(x=230,y=170)\n",
    "tk.Button(app,text='x',height=2,width=4,font=5,command=lambda:operate('*')).place(x=230,y=260)\n",
    "tk.Button(app,text='/',height=2,width=4,font=5,command=lambda:operate('/')).place(x=230,y=350)\n",
    "\n",
    "tk.Button(app,text='1',height=2,width=4,font=5,command=lambda:operate('1')).place(x=20,y=260)\n",
    "tk.Button(app,text='2',height=2,width=4,font=5,command=lambda:operate('2')).place(x=90,y=260)\n",
    "tk.Button(app,text='3',height=2,width=4,font=5,command=lambda:operate('3')).place(x=160,y=260)\n",
    "tk.Button(app,text='4',height=2,width=4,font=5,command=lambda:operate('4')).place(x=20,y=170)\n",
    "tk.Button(app,text='5',height=2,width=4,font=5,command=lambda:operate('5')).place(x=90,y=170)\n",
    "tk.Button(app,text='6',height=2,width=4,font=5,command=lambda:operate('6')).place(x=160,y=170)\n",
    "tk.Button(app,text='7',height=2,width=4,font=5,command=lambda:operate('7')).place(x=20,y=80)\n",
    "tk.Button(app,text='8',height=2,width=4,font=5,command=lambda:operate('8')).place(x=90,y=80)\n",
    "tk.Button(app,text='9',height=2,width=4,font=5,command=lambda:operate('9')).place(x=160,y=80)\n",
    "tk.Button(app,text='0',height=2,width=4,font=5,command=lambda:operate('0')).place(x=90,y=350)\n",
    "tk.Button(app,text='.',height=2,width=4,font=5,command=lambda:operate('.')).place(x=20,y=350)\n",
    "tk.Button(app,text='=',height=2,width=4,font=5,command=lambda:result('=')).place(x=160,y=350)\n",
    "tk.Button(app,text='CLR',width=4,command=clear).place(x=20,y=10)\n",
    "\n",
    "app.mainloop()     "
   ]
  },
  {
   "cell_type": "code",
   "execution_count": null,
   "id": "fc3bb532-9d94-4087-ba02-7d84d44cf427",
   "metadata": {},
   "outputs": [],
   "source": []
  }
 ],
 "metadata": {
  "kernelspec": {
   "display_name": "Python 3",
   "language": "python",
   "name": "python3"
  },
  "language_info": {
   "codemirror_mode": {
    "name": "ipython",
    "version": 3
   },
   "file_extension": ".py",
   "mimetype": "text/x-python",
   "name": "python",
   "nbconvert_exporter": "python",
   "pygments_lexer": "ipython3",
   "version": "3.8.8"
  }
 },
 "nbformat": 4,
 "nbformat_minor": 5
}
